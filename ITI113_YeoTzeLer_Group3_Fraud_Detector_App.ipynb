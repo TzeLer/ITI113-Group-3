{
 "cells": [
  {
   "cell_type": "code",
   "execution_count": 1,
   "id": "95fce16b-48cb-4fb0-8374-acde22b285ef",
   "metadata": {},
   "outputs": [],
   "source": [
    "import gradio as gr\n",
    "import joblib\n",
    "import pandas as pd\n",
    "import numpy as np"
   ]
  },
  {
   "cell_type": "code",
   "execution_count": 2,
   "id": "d53ff2c3-848c-41b9-873d-8e1eebd8f138",
   "metadata": {},
   "outputs": [],
   "source": [
    "# Load the saved model\n",
    "try:\n",
    "    model = joblib.load('best_random_forest_model.joblib')\n",
    "except FileNotFoundError:\n",
    "    print(\"Error: The model file 'best_random_forest_model.joblib' was not found.\")\n",
    "    print(\"Please make sure you have run the code to train and save the model.\")\n",
    "    exit()"
   ]
  },
  {
   "cell_type": "code",
   "execution_count": 3,
   "id": "e4e422c1-4807-427f-9cc6-2111eb9add8a",
   "metadata": {},
   "outputs": [],
   "source": [
    "# Define the features your model was trained on\n",
    "# These should match the order and names of your columns\n",
    "# We'll use a simplified set for this example\n",
    "numeric_features = [\"amount\", \"oldbalanceOrg\", \"newbalanceOrig\", \"oldbalanceDest\", \"newbalanceDest\", \"balanceDiffOrig\", \"balanceDiffDest\", \"hour_of_day\"]\n",
    "categorical_features = [\"type\"]"
   ]
  },
  {
   "cell_type": "code",
   "execution_count": 4,
   "id": "904f3c5c-9972-44b2-8709-f1d49137260d",
   "metadata": {},
   "outputs": [],
   "source": [
    "# Define the prediction function\n",
    "def predict_fraud(transaction_type, amount, oldbalanceOrg, newbalanceDest, oldbalanceDest, newbalanceOrig, step):\n",
    "    \n",
    "    # Create the new engineered features\n",
    "    balanceDiffOrig = oldbalanceOrg - newbalanceOrig\n",
    "    balanceDiffDest = newbalanceDest - oldbalanceDest\n",
    "    hour_of_day = step % 24\n",
    "    \n",
    "    # Create a DataFrame from the inputs in the correct order\n",
    "    input_data = pd.DataFrame([[\n",
    "        amount, \n",
    "        oldbalanceOrg, \n",
    "        newbalanceOrig,\n",
    "        oldbalanceDest,\n",
    "        newbalanceDest, \n",
    "        balanceDiffOrig,\n",
    "        balanceDiffDest,\n",
    "        hour_of_day,\n",
    "        transaction_type\n",
    "    ]], columns=[*numeric_features, *categorical_features])\n",
    "    \n",
    "    # The ColumnTransformer inside the pipeline expects a DataFrame\n",
    "    # Note: We do not include 'step' in the final data for the model, as it was used to create 'hour_of_day'\n",
    "    \n",
    "    # Make the prediction\n",
    "    prediction = model.predict(input_data)\n",
    "    \n",
    "    # Return a user-friendly result\n",
    "    if prediction[0] == 1:\n",
    "        return \"Fraudulent Transaction Detected!\"\n",
    "    else:\n",
    "        return \"Legitimate Transaction\"\n"
   ]
  },
  {
   "cell_type": "code",
   "execution_count": 5,
   "id": "1358f6b0-36a6-4af4-8faf-966fa815bca4",
   "metadata": {},
   "outputs": [],
   "source": [
    "# Define the Gradio interface\n",
    "# The inputs must match the order of arguments in the predict_fraud function\n",
    "app = gr.Interface(\n",
    "    fn=predict_fraud,\n",
    "    inputs=[\n",
    "        gr.Dropdown(choices=[\"CASH_OUT\", \"TRANSFER\", \"PAYMENT\", \"CASH_IN\", \"DEBIT\"], label=\"Transaction Type\"),\n",
    "        gr.Number(label=\"Amount\"),\n",
    "        gr.Number(label=\"Old Balance of Sender\"),\n",
    "        gr.Number(label=\"New Balance of Sender\"),        \n",
    "        gr.Number(label=\"Old Balance of Receiver\"),\n",
    "        gr.Number(label=\"New Balance of Receiver\"),\n",
    "\n",
    "        gr.Number(label=\"Step (Time)\", minimum=0, maximum=23),\n",
    "    ],\n",
    "    outputs=\"text\",\n",
    "    title=\"Fraud Detection App\",\n",
    "    description=\"Enter transaction details to predict if it is fraudulent.\"\n",
    ")\n"
   ]
  },
  {
   "cell_type": "code",
   "execution_count": 6,
   "id": "1ddadbfe-df87-45e3-91bd-bec1aaf9bd5c",
   "metadata": {},
   "outputs": [
    {
     "name": "stdout",
     "output_type": "stream",
     "text": [
      "* Running on local URL:  http://127.0.0.1:7860\n",
      "* Running on public URL: https://c541237c5f0b9ad4d3.gradio.live\n",
      "\n",
      "This share link expires in 1 week. For free permanent hosting and GPU upgrades, run `gradio deploy` from the terminal in the working directory to deploy to Hugging Face Spaces (https://huggingface.co/spaces)\n"
     ]
    },
    {
     "data": {
      "text/html": [
       "<div><iframe src=\"https://c541237c5f0b9ad4d3.gradio.live\" width=\"100%\" height=\"500\" allow=\"autoplay; camera; microphone; clipboard-read; clipboard-write;\" frameborder=\"0\" allowfullscreen></iframe></div>"
      ],
      "text/plain": [
       "<IPython.core.display.HTML object>"
      ]
     },
     "metadata": {},
     "output_type": "display_data"
    },
    {
     "data": {
      "text/plain": []
     },
     "execution_count": 6,
     "metadata": {},
     "output_type": "execute_result"
    }
   ],
   "source": [
    "# Launch the app\n",
    "app.launch(share=True)"
   ]
  },
  {
   "cell_type": "code",
   "execution_count": null,
   "id": "84ff5187-0096-4cb8-a9a4-528c24f7b86e",
   "metadata": {},
   "outputs": [],
   "source": []
  }
 ],
 "metadata": {
  "kernelspec": {
   "display_name": "Python [conda env:base] *",
   "language": "python",
   "name": "conda-base-py"
  },
  "language_info": {
   "codemirror_mode": {
    "name": "ipython",
    "version": 3
   },
   "file_extension": ".py",
   "mimetype": "text/x-python",
   "name": "python",
   "nbconvert_exporter": "python",
   "pygments_lexer": "ipython3",
   "version": "3.13.5"
  }
 },
 "nbformat": 4,
 "nbformat_minor": 5
}
